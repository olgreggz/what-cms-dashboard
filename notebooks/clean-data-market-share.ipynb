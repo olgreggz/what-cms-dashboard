{
 "cells": [
  {
   "cell_type": "code",
   "execution_count": 1,
   "metadata": {},
   "outputs": [],
   "source": [
    "%load_ext lab_black"
   ]
  },
  {
   "cell_type": "code",
   "execution_count": 2,
   "metadata": {},
   "outputs": [],
   "source": [
    "import pandas as pd"
   ]
  },
  {
   "cell_type": "code",
   "execution_count": 3,
   "metadata": {},
   "outputs": [],
   "source": [
    "def normalize_group(cms):\n",
    "    if cms in {\"eSchoolView\", \"Linq Websites\"}:\n",
    "        return \"Linq Websites (formerly eSchoolView)\"\n",
    "    return cms"
   ]
  },
  {
   "cell_type": "code",
   "execution_count": 4,
   "metadata": {},
   "outputs": [],
   "source": [
    "RAW_DATA_FILEPATH = \"../data/what_cms_data.csv\"\n",
    "INDY_DATA_FILEPATH = \"../data/indy_data.csv\"\n",
    "PUBLIC_FILEPATH = \"../data/public_data.csv\""
   ]
  },
  {
   "cell_type": "code",
   "execution_count": 5,
   "metadata": {},
   "outputs": [],
   "source": [
    "INDY_CUTOFF = 6\n",
    "PUBLIC_CUTOFF = 15"
   ]
  },
  {
   "cell_type": "code",
   "execution_count": 6,
   "metadata": {},
   "outputs": [],
   "source": [
    "COLUMNS = [\"WHOCMS\", \"WHOCMS Previous 2021\", \"WHOCMS Previous 2020\"]"
   ]
  },
  {
   "cell_type": "code",
   "execution_count": 7,
   "metadata": {},
   "outputs": [],
   "source": [
    "EXCLUDE_INDUSTRIES = {\"Higher Education\", \"International School\"}"
   ]
  },
  {
   "cell_type": "code",
   "execution_count": 8,
   "metadata": {},
   "outputs": [],
   "source": [
    "CMS = {\n",
    "    \"Finalsite\",\n",
    "    \"SchoolPointe\",\n",
    "    \"SOCS\",\n",
    "    \"Blackboard\",\n",
    "    \"SchoolMessenger\",\n",
    "    \"Edlio\",\n",
    "    \"Apptegy\",\n",
    "    \"Gabbart or North American Division\",\n",
    "    \"Educational Networks\",\n",
    "    \"eSchoolView\",\n",
    "    \"School Blocks\",\n",
    "    \"Campus Suite\",\n",
    "    \"School Loop\",\n",
    "    \"Catapult CMS\",\n",
    "    \"Blackbaud OnMessage\",\n",
    "    \"Blackbaud\",\n",
    "    \"School Webmasters\",\n",
    "    \"eChalk\",\n",
    "    \"SCHOOLinSITES\",\n",
    "    \"Sitefinity\",\n",
    "    \"eCatholic\",\n",
    "    \"CivicEngage\",\n",
    "    \"Linq Websites\",\n",
    "    \"Revize\",\n",
    "    \"elcomCMS\",\n",
    "    \"Percussion\",\n",
    "    \"OU Campus\",\n",
    "    \"Moodle\",\n",
    "    \"Aeries\",\n",
    "    \"CMS4Schools\",\n",
    "    \"Cnyric\",\n",
    "    \"Foxbright\",\n",
    "    \"Joomla\",\n",
    "    \"Drupal\",\n",
    "}"
   ]
  },
  {
   "cell_type": "code",
   "execution_count": 9,
   "metadata": {},
   "outputs": [],
   "source": [
    "df = (\n",
    "    pd.read_csv(RAW_DATA_FILEPATH, encoding=\"ISO-8859-1\")\n",
    "    .loc[lambda df: ~df[\"Industry\"].isin(EXCLUDE_INDUSTRIES), COLUMNS + [\"Industry\"],]\n",
    "    .assign(\n",
    "        cms_2020_07=lambda df: df[\"WHOCMS Previous 2020\"].apply(normalize_group),\n",
    "        cms_2020_11=lambda df: df[\"WHOCMS Previous 2021\"].apply(normalize_group),\n",
    "        cms_2021_08=lambda df: df[\"WHOCMS\"].apply(normalize_group),\n",
    "    )\n",
    "    .drop(COLUMNS, axis=1)\n",
    "    .dropna()\n",
    ")"
   ]
  },
  {
   "cell_type": "code",
   "execution_count": 10,
   "metadata": {},
   "outputs": [],
   "source": [
    "public_df = (\n",
    "    df[df[\"Industry\"] == \"Public School District\"]\n",
    "    .drop(\"Industry\", axis=1)\n",
    "    .apply(lambda s: s.value_counts())\n",
    "    .fillna(0)\n",
    "    .reset_index()\n",
    "    .loc[lambda df: df[\"index\"].isin(CMS)]\n",
    "    .loc[lambda df: df[\"cms_2021_08\"] > PUBLIC_CUTOFF]\n",
    "    .rename(columns={\"index\": \"cms\"})\n",
    ")"
   ]
  },
  {
   "cell_type": "code",
   "execution_count": 11,
   "metadata": {},
   "outputs": [],
   "source": [
    "indy_df = (\n",
    "    df[df[\"Industry\"] == \"Independent School\"]\n",
    "    .drop(\"Industry\", axis=1)\n",
    "    .apply(lambda s: s.value_counts())\n",
    "    .fillna(0)\n",
    "    .reset_index()\n",
    "    .loc[lambda df: df[\"index\"].isin(CMS)]\n",
    "    .loc[lambda df: df[\"cms_2021_08\"] > INDY_CUTOFF]\n",
    "    .rename(columns={\"index\": \"cms\"})\n",
    ")"
   ]
  },
  {
   "cell_type": "code",
   "execution_count": 12,
   "metadata": {},
   "outputs": [],
   "source": [
    "public_df.to_csv(PUBLIC_FILEPATH, index=False)\n",
    "indy_df.to_csv(INDY_DATA_FILEPATH, index=False)"
   ]
  }
 ],
 "metadata": {
  "kernelspec": {
   "display_name": "Python 3",
   "language": "python",
   "name": "python3"
  },
  "language_info": {
   "codemirror_mode": {
    "name": "ipython",
    "version": 3
   },
   "file_extension": ".py",
   "mimetype": "text/x-python",
   "name": "python",
   "nbconvert_exporter": "python",
   "pygments_lexer": "ipython3",
   "version": "3.7.5"
  }
 },
 "nbformat": 4,
 "nbformat_minor": 4
}
